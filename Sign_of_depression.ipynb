{
  "nbformat": 4,
  "nbformat_minor": 0,
  "metadata": {
    "colab": {
      "name": "Sign of depression.ipynb",
      "provenance": []
    },
    "kernelspec": {
      "name": "python3",
      "display_name": "Python 3"
    },
    "language_info": {
      "name": "python"
    }
  },
  "cells": [
    {
      "cell_type": "code",
      "source": [
        "from google.colab import drive\n",
        "drive.mount('/content/drive')"
      ],
      "metadata": {
        "colab": {
          "base_uri": "https://localhost:8080/"
        },
        "id": "JScAj9AMS6yi",
        "outputId": "881992b8-08fc-4267-bc25-ed2df5fd04ae"
      },
      "execution_count": null,
      "outputs": [
        {
          "output_type": "stream",
          "name": "stdout",
          "text": [
            "Drive already mounted at /content/drive; to attempt to forcibly remount, call drive.mount(\"/content/drive\", force_remount=True).\n"
          ]
        }
      ]
    },
    {
      "cell_type": "code",
      "source": [
        "import pandas as pd\n",
        "import nltk\n",
        "from nltk.corpus import stopwords\n",
        "import re\n",
        "import string\n",
        "from sklearn.feature_extraction.text import  CountVectorizer, TfidfTransformer,TfidfVectorizer\n",
        "from sklearn.model_selection import StratifiedKFold, cross_val_score, KFold, cross_val_score, GridSearchCV \n",
        "from sklearn.svm import SVC\n",
        "from sklearn.linear_model import LogisticRegression\n",
        "from sklearn.metrics import classification_report, plot_confusion_matrix, make_scorer, accuracy_score, f1_score, confusion_matrix, roc_auc_score, recall_score, precision_score, log_loss\n",
        "pd.set_option('max_colwidth', 500)"
      ],
      "metadata": {
        "id": "4qETX45sS8dX"
      },
      "execution_count": null,
      "outputs": []
    },
    {
      "cell_type": "code",
      "source": [
        "#loading  Dev data\n",
        "data_dev=pd.read_csv('/content/drive/MyDrive/dev_with_labels.tsv',sep='\\t')\n",
        "data_dev.head()\n"
      ],
      "metadata": {
        "colab": {
          "base_uri": "https://localhost:8080/",
          "height": 389
        },
        "id": "oZOPpRnbTEmr",
        "outputId": "9d2851d6-fb08-49b9-9d0d-c2cea40772f6"
      },
      "execution_count": null,
      "outputs": [
        {
          "output_type": "execute_result",
          "data": {
            "text/html": [
              "\n",
              "  <div id=\"df-6ab7777f-f0a5-4432-beb9-3fdba37d7827\">\n",
              "    <div class=\"colab-df-container\">\n",
              "      <div>\n",
              "<style scoped>\n",
              "    .dataframe tbody tr th:only-of-type {\n",
              "        vertical-align: middle;\n",
              "    }\n",
              "\n",
              "    .dataframe tbody tr th {\n",
              "        vertical-align: top;\n",
              "    }\n",
              "\n",
              "    .dataframe thead th {\n",
              "        text-align: right;\n",
              "    }\n",
              "</style>\n",
              "<table border=\"1\" class=\"dataframe\">\n",
              "  <thead>\n",
              "    <tr style=\"text-align: right;\">\n",
              "      <th></th>\n",
              "      <th>PID</th>\n",
              "      <th>Text_data</th>\n",
              "      <th>Label</th>\n",
              "    </tr>\n",
              "  </thead>\n",
              "  <tbody>\n",
              "    <tr>\n",
              "      <th>0</th>\n",
              "      <td>dev_pid_1</td>\n",
              "      <td>I enjoyed today, and I still am! Tomorrows depression can wait! : Today, I'm warm and cozy :) I even had some tea, to complement my sandwich!\\nThis is a crazy time we live in, but it's only the beginning, with the world going to shambles, being alone feels werid.\\nBut a stranger came through and saved me,\\nOf course it's a debt I'll have to repay, but I'm grateful to have this debt!\\nCrazy what a few dollars can do to change someones situation.\\nBut these days, it's all about here and now!\\n...</td>\n",
              "      <td>moderate</td>\n",
              "    </tr>\n",
              "    <tr>\n",
              "      <th>1</th>\n",
              "      <td>dev_pid_2</td>\n",
              "      <td>I sorta tried to kill myself : I had a total breakdown in a fucking car park at 1am alone.i sat for balling my eye out for hours covered in blood and swallowed 32 pill. I'm in a little pain but I'm home now I've calmed down and I'm feeling a bit more relaxed. I've been so alone look lately, the only person who I can \"talk to\" is my ex who cheated, lied and often avoids me. I tried calling samaritans when I was outside however they waiting list was so long. I was planning on kept the pills an...</td>\n",
              "      <td>moderate</td>\n",
              "    </tr>\n",
              "    <tr>\n",
              "      <th>2</th>\n",
              "      <td>dev_pid_3</td>\n",
              "      <td>Best suicide method? : I like it quick and easy with no deformities haha!</td>\n",
              "      <td>moderate</td>\n",
              "    </tr>\n",
              "    <tr>\n",
              "      <th>3</th>\n",
              "      <td>dev_pid_4</td>\n",
              "      <td>a story : I remember the time I'd get on my 3DS to play Nintendogs. I'd be at my grandparents house, having fun with my chihuahua. It was nice and calming, having no trouble when I need to get in a safe space. Peaceful music was played whenever I'd walk my dog. Competitive, yet smooth music played whenever I'd enter competitions. A fun experience was the least I could say. It was amazing.\\nI had a dog once. Well, not exactly my dog, it was my grandparents. We called him Bugsy (Bugzy?) and he...</td>\n",
              "      <td>moderate</td>\n",
              "    </tr>\n",
              "    <tr>\n",
              "      <th>4</th>\n",
              "      <td>dev_pid_5</td>\n",
              "      <td>The world only cares about beautiful people : I'm born ugly. I've always been ugly all my life and I don't think that I could ever become more beautiful. However, I used to think that if I tried my best and be a \"good\" person, people will like me too. But I'll never be treated like those who are beautiful. No matter how much I tried to become a excellent student, a helpful friend, others never really like me, no one cares about my existence. I have no real friends and I have never been in a ...</td>\n",
              "      <td>moderate</td>\n",
              "    </tr>\n",
              "  </tbody>\n",
              "</table>\n",
              "</div>\n",
              "      <button class=\"colab-df-convert\" onclick=\"convertToInteractive('df-6ab7777f-f0a5-4432-beb9-3fdba37d7827')\"\n",
              "              title=\"Convert this dataframe to an interactive table.\"\n",
              "              style=\"display:none;\">\n",
              "        \n",
              "  <svg xmlns=\"http://www.w3.org/2000/svg\" height=\"24px\"viewBox=\"0 0 24 24\"\n",
              "       width=\"24px\">\n",
              "    <path d=\"M0 0h24v24H0V0z\" fill=\"none\"/>\n",
              "    <path d=\"M18.56 5.44l.94 2.06.94-2.06 2.06-.94-2.06-.94-.94-2.06-.94 2.06-2.06.94zm-11 1L8.5 8.5l.94-2.06 2.06-.94-2.06-.94L8.5 2.5l-.94 2.06-2.06.94zm10 10l.94 2.06.94-2.06 2.06-.94-2.06-.94-.94-2.06-.94 2.06-2.06.94z\"/><path d=\"M17.41 7.96l-1.37-1.37c-.4-.4-.92-.59-1.43-.59-.52 0-1.04.2-1.43.59L10.3 9.45l-7.72 7.72c-.78.78-.78 2.05 0 2.83L4 21.41c.39.39.9.59 1.41.59.51 0 1.02-.2 1.41-.59l7.78-7.78 2.81-2.81c.8-.78.8-2.07 0-2.86zM5.41 20L4 18.59l7.72-7.72 1.47 1.35L5.41 20z\"/>\n",
              "  </svg>\n",
              "      </button>\n",
              "      \n",
              "  <style>\n",
              "    .colab-df-container {\n",
              "      display:flex;\n",
              "      flex-wrap:wrap;\n",
              "      gap: 12px;\n",
              "    }\n",
              "\n",
              "    .colab-df-convert {\n",
              "      background-color: #E8F0FE;\n",
              "      border: none;\n",
              "      border-radius: 50%;\n",
              "      cursor: pointer;\n",
              "      display: none;\n",
              "      fill: #1967D2;\n",
              "      height: 32px;\n",
              "      padding: 0 0 0 0;\n",
              "      width: 32px;\n",
              "    }\n",
              "\n",
              "    .colab-df-convert:hover {\n",
              "      background-color: #E2EBFA;\n",
              "      box-shadow: 0px 1px 2px rgba(60, 64, 67, 0.3), 0px 1px 3px 1px rgba(60, 64, 67, 0.15);\n",
              "      fill: #174EA6;\n",
              "    }\n",
              "\n",
              "    [theme=dark] .colab-df-convert {\n",
              "      background-color: #3B4455;\n",
              "      fill: #D2E3FC;\n",
              "    }\n",
              "\n",
              "    [theme=dark] .colab-df-convert:hover {\n",
              "      background-color: #434B5C;\n",
              "      box-shadow: 0px 1px 3px 1px rgba(0, 0, 0, 0.15);\n",
              "      filter: drop-shadow(0px 1px 2px rgba(0, 0, 0, 0.3));\n",
              "      fill: #FFFFFF;\n",
              "    }\n",
              "  </style>\n",
              "\n",
              "      <script>\n",
              "        const buttonEl =\n",
              "          document.querySelector('#df-6ab7777f-f0a5-4432-beb9-3fdba37d7827 button.colab-df-convert');\n",
              "        buttonEl.style.display =\n",
              "          google.colab.kernel.accessAllowed ? 'block' : 'none';\n",
              "\n",
              "        async function convertToInteractive(key) {\n",
              "          const element = document.querySelector('#df-6ab7777f-f0a5-4432-beb9-3fdba37d7827');\n",
              "          const dataTable =\n",
              "            await google.colab.kernel.invokeFunction('convertToInteractive',\n",
              "                                                     [key], {});\n",
              "          if (!dataTable) return;\n",
              "\n",
              "          const docLinkHtml = 'Like what you see? Visit the ' +\n",
              "            '<a target=\"_blank\" href=https://colab.research.google.com/notebooks/data_table.ipynb>data table notebook</a>'\n",
              "            + ' to learn more about interactive tables.';\n",
              "          element.innerHTML = '';\n",
              "          dataTable['output_type'] = 'display_data';\n",
              "          await google.colab.output.renderOutput(dataTable, element);\n",
              "          const docLink = document.createElement('div');\n",
              "          docLink.innerHTML = docLinkHtml;\n",
              "          element.appendChild(docLink);\n",
              "        }\n",
              "      </script>\n",
              "    </div>\n",
              "  </div>\n",
              "  "
            ],
            "text/plain": [
              "         PID  \\\n",
              "0  dev_pid_1   \n",
              "1  dev_pid_2   \n",
              "2  dev_pid_3   \n",
              "3  dev_pid_4   \n",
              "4  dev_pid_5   \n",
              "\n",
              "                                                                                                                                                                                                                                                                                                                                                                                                                                                                                                             Text_data  \\\n",
              "0  I enjoyed today, and I still am! Tomorrows depression can wait! : Today, I'm warm and cozy :) I even had some tea, to complement my sandwich!\\nThis is a crazy time we live in, but it's only the beginning, with the world going to shambles, being alone feels werid.\\nBut a stranger came through and saved me,\\nOf course it's a debt I'll have to repay, but I'm grateful to have this debt!\\nCrazy what a few dollars can do to change someones situation.\\nBut these days, it's all about here and now!\\n...   \n",
              "1  I sorta tried to kill myself : I had a total breakdown in a fucking car park at 1am alone.i sat for balling my eye out for hours covered in blood and swallowed 32 pill. I'm in a little pain but I'm home now I've calmed down and I'm feeling a bit more relaxed. I've been so alone look lately, the only person who I can \"talk to\" is my ex who cheated, lied and often avoids me. I tried calling samaritans when I was outside however they waiting list was so long. I was planning on kept the pills an...   \n",
              "2                                                                                                                                                                                                                                                                                                                                                                                                                                            Best suicide method? : I like it quick and easy with no deformities haha!   \n",
              "3  a story : I remember the time I'd get on my 3DS to play Nintendogs. I'd be at my grandparents house, having fun with my chihuahua. It was nice and calming, having no trouble when I need to get in a safe space. Peaceful music was played whenever I'd walk my dog. Competitive, yet smooth music played whenever I'd enter competitions. A fun experience was the least I could say. It was amazing.\\nI had a dog once. Well, not exactly my dog, it was my grandparents. We called him Bugsy (Bugzy?) and he...   \n",
              "4  The world only cares about beautiful people : I'm born ugly. I've always been ugly all my life and I don't think that I could ever become more beautiful. However, I used to think that if I tried my best and be a \"good\" person, people will like me too. But I'll never be treated like those who are beautiful. No matter how much I tried to become a excellent student, a helpful friend, others never really like me, no one cares about my existence. I have no real friends and I have never been in a ...   \n",
              "\n",
              "      Label  \n",
              "0  moderate  \n",
              "1  moderate  \n",
              "2  moderate  \n",
              "3  moderate  \n",
              "4  moderate  "
            ]
          },
          "metadata": {},
          "execution_count": 28
        }
      ]
    },
    {
      "cell_type": "code",
      "source": [
        "data_dev['Label'].value_counts()"
      ],
      "metadata": {
        "colab": {
          "base_uri": "https://localhost:8080/"
        },
        "id": "pHwJCluIToZV",
        "outputId": "baa95dd3-633b-4229-c7e5-26596c324696"
      },
      "execution_count": null,
      "outputs": [
        {
          "output_type": "execute_result",
          "data": {
            "text/plain": [
              "moderate          2306\n",
              "not depression    1830\n",
              "severe             360\n",
              "Name: Label, dtype: int64"
            ]
          },
          "metadata": {},
          "execution_count": 29
        }
      ]
    },
    {
      "cell_type": "code",
      "source": [
        "#loading train data\n",
        "data_train=pd.read_csv('/content/drive/MyDrive/train.tsv',sep='\\t')\n",
        "data_train.head()"
      ],
      "metadata": {
        "colab": {
          "base_uri": "https://localhost:8080/",
          "height": 337
        },
        "id": "6dwgo0MCU2EY",
        "outputId": "b52fc6f4-4184-47a1-c230-9ee339475376"
      },
      "execution_count": null,
      "outputs": [
        {
          "output_type": "execute_result",
          "data": {
            "text/html": [
              "\n",
              "  <div id=\"df-c73bc95b-e333-4527-b55f-956966e86d75\">\n",
              "    <div class=\"colab-df-container\">\n",
              "      <div>\n",
              "<style scoped>\n",
              "    .dataframe tbody tr th:only-of-type {\n",
              "        vertical-align: middle;\n",
              "    }\n",
              "\n",
              "    .dataframe tbody tr th {\n",
              "        vertical-align: top;\n",
              "    }\n",
              "\n",
              "    .dataframe thead th {\n",
              "        text-align: right;\n",
              "    }\n",
              "</style>\n",
              "<table border=\"1\" class=\"dataframe\">\n",
              "  <thead>\n",
              "    <tr style=\"text-align: right;\">\n",
              "      <th></th>\n",
              "      <th>PID</th>\n",
              "      <th>Text_data</th>\n",
              "      <th>Label</th>\n",
              "    </tr>\n",
              "  </thead>\n",
              "  <tbody>\n",
              "    <tr>\n",
              "      <th>0</th>\n",
              "      <td>train_pid_1</td>\n",
              "      <td>Waiting for my mind to have a breakdown once the “New Year” feeling isn’t there anymore : I don’t know about anyone else, but I’m a little bit worried that I’ll go back to being depressed in a few days time or something. Last year, I tried not to have any breakdowns for the start of 2019. A mere 10 days later, I broke down crying. I wasn’t the same for that entire year. Up until December, where I was ok that month. Now I just wait... it’s a weird way to act and feel, but it feels a bit normal.</td>\n",
              "      <td>moderate</td>\n",
              "    </tr>\n",
              "    <tr>\n",
              "      <th>1</th>\n",
              "      <td>train_pid_2</td>\n",
              "      <td>My new years resolution : I'm gonna get my ass into a therapists office, and if I dont become even a little bit happy, then I'm not dealing with this shit anymore.\\n\\nI'm not asking for a lot, just a little bit of serotonin is all I want</td>\n",
              "      <td>moderate</td>\n",
              "    </tr>\n",
              "    <tr>\n",
              "      <th>2</th>\n",
              "      <td>train_pid_3</td>\n",
              "      <td>New year : Somone else Feeling like 2020 will be there last\\nyear on earth because even wen your hammerd your Feeling like a moron thats depressed?</td>\n",
              "      <td>moderate</td>\n",
              "    </tr>\n",
              "    <tr>\n",
              "      <th>3</th>\n",
              "      <td>train_pid_4</td>\n",
              "      <td>My story I guess : Hi, Im from Germany and my english is mostly self learned, so please excuse if I do anything wrong. So here it goes:\\n\\nI've been depressed for 4 years now and I'm only 16 and because I have no one in real life to talk to, I thought I'll just post it here. \\n\\nMy story starts with me being 12 years old and my best friend talking shit about me and telling I was a fake friend without me doing anything. For some reason he is still my best friend but he changed now luckily. Th...</td>\n",
              "      <td>moderate</td>\n",
              "    </tr>\n",
              "    <tr>\n",
              "      <th>4</th>\n",
              "      <td>train_pid_5</td>\n",
              "      <td>Sat in the dark and cried myself going into the new year. Great start to 2020 :</td>\n",
              "      <td>moderate</td>\n",
              "    </tr>\n",
              "  </tbody>\n",
              "</table>\n",
              "</div>\n",
              "      <button class=\"colab-df-convert\" onclick=\"convertToInteractive('df-c73bc95b-e333-4527-b55f-956966e86d75')\"\n",
              "              title=\"Convert this dataframe to an interactive table.\"\n",
              "              style=\"display:none;\">\n",
              "        \n",
              "  <svg xmlns=\"http://www.w3.org/2000/svg\" height=\"24px\"viewBox=\"0 0 24 24\"\n",
              "       width=\"24px\">\n",
              "    <path d=\"M0 0h24v24H0V0z\" fill=\"none\"/>\n",
              "    <path d=\"M18.56 5.44l.94 2.06.94-2.06 2.06-.94-2.06-.94-.94-2.06-.94 2.06-2.06.94zm-11 1L8.5 8.5l.94-2.06 2.06-.94-2.06-.94L8.5 2.5l-.94 2.06-2.06.94zm10 10l.94 2.06.94-2.06 2.06-.94-2.06-.94-.94-2.06-.94 2.06-2.06.94z\"/><path d=\"M17.41 7.96l-1.37-1.37c-.4-.4-.92-.59-1.43-.59-.52 0-1.04.2-1.43.59L10.3 9.45l-7.72 7.72c-.78.78-.78 2.05 0 2.83L4 21.41c.39.39.9.59 1.41.59.51 0 1.02-.2 1.41-.59l7.78-7.78 2.81-2.81c.8-.78.8-2.07 0-2.86zM5.41 20L4 18.59l7.72-7.72 1.47 1.35L5.41 20z\"/>\n",
              "  </svg>\n",
              "      </button>\n",
              "      \n",
              "  <style>\n",
              "    .colab-df-container {\n",
              "      display:flex;\n",
              "      flex-wrap:wrap;\n",
              "      gap: 12px;\n",
              "    }\n",
              "\n",
              "    .colab-df-convert {\n",
              "      background-color: #E8F0FE;\n",
              "      border: none;\n",
              "      border-radius: 50%;\n",
              "      cursor: pointer;\n",
              "      display: none;\n",
              "      fill: #1967D2;\n",
              "      height: 32px;\n",
              "      padding: 0 0 0 0;\n",
              "      width: 32px;\n",
              "    }\n",
              "\n",
              "    .colab-df-convert:hover {\n",
              "      background-color: #E2EBFA;\n",
              "      box-shadow: 0px 1px 2px rgba(60, 64, 67, 0.3), 0px 1px 3px 1px rgba(60, 64, 67, 0.15);\n",
              "      fill: #174EA6;\n",
              "    }\n",
              "\n",
              "    [theme=dark] .colab-df-convert {\n",
              "      background-color: #3B4455;\n",
              "      fill: #D2E3FC;\n",
              "    }\n",
              "\n",
              "    [theme=dark] .colab-df-convert:hover {\n",
              "      background-color: #434B5C;\n",
              "      box-shadow: 0px 1px 3px 1px rgba(0, 0, 0, 0.15);\n",
              "      filter: drop-shadow(0px 1px 2px rgba(0, 0, 0, 0.3));\n",
              "      fill: #FFFFFF;\n",
              "    }\n",
              "  </style>\n",
              "\n",
              "      <script>\n",
              "        const buttonEl =\n",
              "          document.querySelector('#df-c73bc95b-e333-4527-b55f-956966e86d75 button.colab-df-convert');\n",
              "        buttonEl.style.display =\n",
              "          google.colab.kernel.accessAllowed ? 'block' : 'none';\n",
              "\n",
              "        async function convertToInteractive(key) {\n",
              "          const element = document.querySelector('#df-c73bc95b-e333-4527-b55f-956966e86d75');\n",
              "          const dataTable =\n",
              "            await google.colab.kernel.invokeFunction('convertToInteractive',\n",
              "                                                     [key], {});\n",
              "          if (!dataTable) return;\n",
              "\n",
              "          const docLinkHtml = 'Like what you see? Visit the ' +\n",
              "            '<a target=\"_blank\" href=https://colab.research.google.com/notebooks/data_table.ipynb>data table notebook</a>'\n",
              "            + ' to learn more about interactive tables.';\n",
              "          element.innerHTML = '';\n",
              "          dataTable['output_type'] = 'display_data';\n",
              "          await google.colab.output.renderOutput(dataTable, element);\n",
              "          const docLink = document.createElement('div');\n",
              "          docLink.innerHTML = docLinkHtml;\n",
              "          element.appendChild(docLink);\n",
              "        }\n",
              "      </script>\n",
              "    </div>\n",
              "  </div>\n",
              "  "
            ],
            "text/plain": [
              "           PID  \\\n",
              "0  train_pid_1   \n",
              "1  train_pid_2   \n",
              "2  train_pid_3   \n",
              "3  train_pid_4   \n",
              "4  train_pid_5   \n",
              "\n",
              "                                                                                                                                                                                                                                                                                                                                                                                                                                                                                                             Text_data  \\\n",
              "0   Waiting for my mind to have a breakdown once the “New Year” feeling isn’t there anymore : I don’t know about anyone else, but I’m a little bit worried that I’ll go back to being depressed in a few days time or something. Last year, I tried not to have any breakdowns for the start of 2019. A mere 10 days later, I broke down crying. I wasn’t the same for that entire year. Up until December, where I was ok that month. Now I just wait... it’s a weird way to act and feel, but it feels a bit normal.   \n",
              "1                                                                                                                                                                                                                                                                        My new years resolution : I'm gonna get my ass into a therapists office, and if I dont become even a little bit happy, then I'm not dealing with this shit anymore.\\n\\nI'm not asking for a lot, just a little bit of serotonin is all I want   \n",
              "2                                                                                                                                                                                                                                                                                                                                                                  New year : Somone else Feeling like 2020 will be there last\\nyear on earth because even wen your hammerd your Feeling like a moron thats depressed?   \n",
              "3  My story I guess : Hi, Im from Germany and my english is mostly self learned, so please excuse if I do anything wrong. So here it goes:\\n\\nI've been depressed for 4 years now and I'm only 16 and because I have no one in real life to talk to, I thought I'll just post it here. \\n\\nMy story starts with me being 12 years old and my best friend talking shit about me and telling I was a fake friend without me doing anything. For some reason he is still my best friend but he changed now luckily. Th...   \n",
              "4                                                                                                                                                                                                                                                                                                                                                                                                                                     Sat in the dark and cried myself going into the new year. Great start to 2020 :    \n",
              "\n",
              "      Label  \n",
              "0  moderate  \n",
              "1  moderate  \n",
              "2  moderate  \n",
              "3  moderate  \n",
              "4  moderate  "
            ]
          },
          "metadata": {},
          "execution_count": 30
        }
      ]
    },
    {
      "cell_type": "code",
      "source": [
        "#loading test data\n",
        "data_test=pd.read_csv('/content/drive/MyDrive/test_data.tsv',sep='\\t')\n",
        "data_test.head()"
      ],
      "metadata": {
        "colab": {
          "base_uri": "https://localhost:8080/",
          "height": 424
        },
        "id": "vYkpJXDmXq_f",
        "outputId": "9953f594-1aa5-47e2-fe95-5315a98d971b"
      },
      "execution_count": null,
      "outputs": [
        {
          "output_type": "execute_result",
          "data": {
            "text/html": [
              "\n",
              "  <div id=\"df-c5d9b00a-e06f-4493-91e1-5c62ff4adafd\">\n",
              "    <div class=\"colab-df-container\">\n",
              "      <div>\n",
              "<style scoped>\n",
              "    .dataframe tbody tr th:only-of-type {\n",
              "        vertical-align: middle;\n",
              "    }\n",
              "\n",
              "    .dataframe tbody tr th {\n",
              "        vertical-align: top;\n",
              "    }\n",
              "\n",
              "    .dataframe thead th {\n",
              "        text-align: right;\n",
              "    }\n",
              "</style>\n",
              "<table border=\"1\" class=\"dataframe\">\n",
              "  <thead>\n",
              "    <tr style=\"text-align: right;\">\n",
              "      <th></th>\n",
              "      <th>Pid</th>\n",
              "      <th>Text_data</th>\n",
              "    </tr>\n",
              "  </thead>\n",
              "  <tbody>\n",
              "    <tr>\n",
              "      <th>0</th>\n",
              "      <td>test_pid_1</td>\n",
              "      <td>Im scared : This is it. I lie to myself every day and say ill make it out but i think this might just be it. \\nI thought i wanted a girlfriend but i realize that what i really want is to feel loved. Ive spent 20 years on this earth but ive felt completely alone forever. My heart hurts. My subconscious taunts me every night only for me to wake up to the reality that im a loser who is not worth anyones time. \\nIm scared i will live like this until the day i die.\\nIm being torn from the inside ...</td>\n",
              "    </tr>\n",
              "    <tr>\n",
              "      <th>1</th>\n",
              "      <td>test_pid_2</td>\n",
              "      <td>New to this but just wanted to vent : I just finally realized that I’m kind of in a bad mental state. There’s this feeling of dread in me. I don’t want to work so I made an excuse not to go to work. I kind of feel like all of this stem from being financially unstable where I’m living pay check to pay check, hating my job because of the toxic environment I just had enough of it where I’m feeling like I have to walk on eggshells around people and having people talk about me because I am not at...</td>\n",
              "    </tr>\n",
              "    <tr>\n",
              "      <th>2</th>\n",
              "      <td>test_pid_3</td>\n",
              "      <td>I’m sad : It’s kinda always been an issue. I wouldn’t say it’s as bad as my peers but it’s definitely bad. There’s a lot that I obviously can’t write cause it would take a while but I’ll just say the grand scheme of things. So basically I’m not really happy. I haven’t been happy. It definitely started to get really bad last year but it was always an issue growing up. I was very emotional growing up and by the time I was in 4th or 5th grade I had self esteem issues. There wasn’t much of a rea...</td>\n",
              "    </tr>\n",
              "    <tr>\n",
              "      <th>3</th>\n",
              "      <td>test_pid_4</td>\n",
              "      <td>Lonely but not alone. : All of my immediately family members is dead. My dad died 11 yrs ago and grandmother 9 yrs ago. My mom 7 months ago and grandfather a month ago. For six months, I was jobless and depressed. Now i have a job working as a service technician and i love it. But still i have episodes where i feel lonely and depressed and i miss my family but i have my fiancee and her daughter. My depression comes and goes like crazy. And makes it worse that i am still living in my mom old ...</td>\n",
              "    </tr>\n",
              "    <tr>\n",
              "      <th>4</th>\n",
              "      <td>test_pid_5</td>\n",
              "      <td>This year has been trash. : I dont know why I’m posting here. I don’t even know why I’m talking about it at all. In my family if you talk about your problems then you’re just attention seeking so I try not to. I guess I’m just tired of keeping it all to myself. This year I left my 4 year long abusive relationship. He raped me, he stalked me after we broke up, and harassed me relentlessly. I was scared to leave my own home. I was scared to even be *in* my own home. I was always worried that h...</td>\n",
              "    </tr>\n",
              "  </tbody>\n",
              "</table>\n",
              "</div>\n",
              "      <button class=\"colab-df-convert\" onclick=\"convertToInteractive('df-c5d9b00a-e06f-4493-91e1-5c62ff4adafd')\"\n",
              "              title=\"Convert this dataframe to an interactive table.\"\n",
              "              style=\"display:none;\">\n",
              "        \n",
              "  <svg xmlns=\"http://www.w3.org/2000/svg\" height=\"24px\"viewBox=\"0 0 24 24\"\n",
              "       width=\"24px\">\n",
              "    <path d=\"M0 0h24v24H0V0z\" fill=\"none\"/>\n",
              "    <path d=\"M18.56 5.44l.94 2.06.94-2.06 2.06-.94-2.06-.94-.94-2.06-.94 2.06-2.06.94zm-11 1L8.5 8.5l.94-2.06 2.06-.94-2.06-.94L8.5 2.5l-.94 2.06-2.06.94zm10 10l.94 2.06.94-2.06 2.06-.94-2.06-.94-.94-2.06-.94 2.06-2.06.94z\"/><path d=\"M17.41 7.96l-1.37-1.37c-.4-.4-.92-.59-1.43-.59-.52 0-1.04.2-1.43.59L10.3 9.45l-7.72 7.72c-.78.78-.78 2.05 0 2.83L4 21.41c.39.39.9.59 1.41.59.51 0 1.02-.2 1.41-.59l7.78-7.78 2.81-2.81c.8-.78.8-2.07 0-2.86zM5.41 20L4 18.59l7.72-7.72 1.47 1.35L5.41 20z\"/>\n",
              "  </svg>\n",
              "      </button>\n",
              "      \n",
              "  <style>\n",
              "    .colab-df-container {\n",
              "      display:flex;\n",
              "      flex-wrap:wrap;\n",
              "      gap: 12px;\n",
              "    }\n",
              "\n",
              "    .colab-df-convert {\n",
              "      background-color: #E8F0FE;\n",
              "      border: none;\n",
              "      border-radius: 50%;\n",
              "      cursor: pointer;\n",
              "      display: none;\n",
              "      fill: #1967D2;\n",
              "      height: 32px;\n",
              "      padding: 0 0 0 0;\n",
              "      width: 32px;\n",
              "    }\n",
              "\n",
              "    .colab-df-convert:hover {\n",
              "      background-color: #E2EBFA;\n",
              "      box-shadow: 0px 1px 2px rgba(60, 64, 67, 0.3), 0px 1px 3px 1px rgba(60, 64, 67, 0.15);\n",
              "      fill: #174EA6;\n",
              "    }\n",
              "\n",
              "    [theme=dark] .colab-df-convert {\n",
              "      background-color: #3B4455;\n",
              "      fill: #D2E3FC;\n",
              "    }\n",
              "\n",
              "    [theme=dark] .colab-df-convert:hover {\n",
              "      background-color: #434B5C;\n",
              "      box-shadow: 0px 1px 3px 1px rgba(0, 0, 0, 0.15);\n",
              "      filter: drop-shadow(0px 1px 2px rgba(0, 0, 0, 0.3));\n",
              "      fill: #FFFFFF;\n",
              "    }\n",
              "  </style>\n",
              "\n",
              "      <script>\n",
              "        const buttonEl =\n",
              "          document.querySelector('#df-c5d9b00a-e06f-4493-91e1-5c62ff4adafd button.colab-df-convert');\n",
              "        buttonEl.style.display =\n",
              "          google.colab.kernel.accessAllowed ? 'block' : 'none';\n",
              "\n",
              "        async function convertToInteractive(key) {\n",
              "          const element = document.querySelector('#df-c5d9b00a-e06f-4493-91e1-5c62ff4adafd');\n",
              "          const dataTable =\n",
              "            await google.colab.kernel.invokeFunction('convertToInteractive',\n",
              "                                                     [key], {});\n",
              "          if (!dataTable) return;\n",
              "\n",
              "          const docLinkHtml = 'Like what you see? Visit the ' +\n",
              "            '<a target=\"_blank\" href=https://colab.research.google.com/notebooks/data_table.ipynb>data table notebook</a>'\n",
              "            + ' to learn more about interactive tables.';\n",
              "          element.innerHTML = '';\n",
              "          dataTable['output_type'] = 'display_data';\n",
              "          await google.colab.output.renderOutput(dataTable, element);\n",
              "          const docLink = document.createElement('div');\n",
              "          docLink.innerHTML = docLinkHtml;\n",
              "          element.appendChild(docLink);\n",
              "        }\n",
              "      </script>\n",
              "    </div>\n",
              "  </div>\n",
              "  "
            ],
            "text/plain": [
              "          Pid  \\\n",
              "0  test_pid_1   \n",
              "1  test_pid_2   \n",
              "2  test_pid_3   \n",
              "3  test_pid_4   \n",
              "4  test_pid_5   \n",
              "\n",
              "                                                                                                                                                                                                                                                                                                                                                                                                                                                                                                             Text_data  \n",
              "0  Im scared : This is it. I lie to myself every day and say ill make it out but i think this might just be it. \\nI thought i wanted a girlfriend but i realize that what i really want is to feel loved. Ive spent 20 years on this earth but ive felt completely alone forever. My heart hurts. My subconscious taunts me every night only for me to wake up to the reality that im a loser who is not worth anyones time. \\nIm scared i will live like this until the day i die.\\nIm being torn from the inside ...  \n",
              "1  New to this but just wanted to vent : I just finally realized that I’m kind of in a bad mental state. There’s this feeling of dread in me. I don’t want to work so I made an excuse not to go to work. I kind of feel like all of this stem from being financially unstable where I’m living pay check to pay check, hating my job because of the toxic environment I just had enough of it where I’m feeling like I have to walk on eggshells around people and having people talk about me because I am not at...  \n",
              "2  I’m sad : It’s kinda always been an issue. I wouldn’t say it’s as bad as my peers but it’s definitely bad. There’s a lot that I obviously can’t write cause it would take a while but I’ll just say the grand scheme of things. So basically I’m not really happy. I haven’t been happy. It definitely started to get really bad last year but it was always an issue growing up. I was very emotional growing up and by the time I was in 4th or 5th grade I had self esteem issues. There wasn’t much of a rea...  \n",
              "3  Lonely but not alone. : All of my immediately family members is dead. My dad died 11 yrs ago and grandmother 9 yrs ago. My mom 7 months ago and grandfather a month ago. For six months, I was jobless and depressed. Now i have a job working as a service technician and i love it. But still i have episodes where i feel lonely and depressed and i miss my family but i have my fiancee and her daughter. My depression comes and goes like crazy. And makes it worse that i am still living in my mom old ...  \n",
              "4  This year has been trash. : I dont know why I’m posting here. I don’t even know why I’m talking about it at all. In my family if you talk about your problems then you’re just attention seeking so I try not to. I guess I’m just tired of keeping it all to myself. This year I left my 4 year long abusive relationship. He raped me, he stalked me after we broke up, and harassed me relentlessly. I was scared to leave my own home. I was scared to even be *in* my own home. I was always worried that h...  "
            ]
          },
          "metadata": {},
          "execution_count": 31
        }
      ]
    },
    {
      "cell_type": "code",
      "source": [
        "data_train['Label'].value_counts()"
      ],
      "metadata": {
        "colab": {
          "base_uri": "https://localhost:8080/"
        },
        "id": "d7hPUEeZVKrs",
        "outputId": "e3512aa9-2bc1-4a3c-891e-45a06aa0ba26"
      },
      "execution_count": null,
      "outputs": [
        {
          "output_type": "execute_result",
          "data": {
            "text/plain": [
              "moderate          6019\n",
              "not depression    1971\n",
              "severe             901\n",
              "Name: Label, dtype: int64"
            ]
          },
          "metadata": {},
          "execution_count": 32
        }
      ]
    },
    {
      "cell_type": "code",
      "source": [
        "nltk.download('stopwords')"
      ],
      "metadata": {
        "colab": {
          "base_uri": "https://localhost:8080/"
        },
        "id": "dvVkAX3zVR0y",
        "outputId": "e80af797-ef0d-4c3b-8439-1145069ca1bb"
      },
      "execution_count": null,
      "outputs": [
        {
          "output_type": "stream",
          "name": "stdout",
          "text": [
            "[nltk_data] Downloading package stopwords to /root/nltk_data...\n",
            "[nltk_data]   Package stopwords is already up-to-date!\n"
          ]
        },
        {
          "output_type": "execute_result",
          "data": {
            "text/plain": [
              "True"
            ]
          },
          "metadata": {},
          "execution_count": 33
        }
      ]
    },
    {
      "cell_type": "code",
      "source": [
        "english_stopwords = stopwords.words(\"english\")\n",
        "stopwords=english_stopwords"
      ],
      "metadata": {
        "id": "0BY5tPrFWwBH"
      },
      "execution_count": null,
      "outputs": []
    },
    {
      "cell_type": "code",
      "source": [
        "def clean_text(text):\n",
        "    #text = give_emoji_free_text(text)\n",
        "    text = re.sub('@[a-zA-Z0-9]*', '', text)\n",
        "    text = \"\".join([word.lower() for word in text if word not in string.punctuation]) \n",
        "    text = \"\".join([word for word in text if not word.isdigit()])\n",
        "    #tokens = re.split('\\W+',text)\n",
        "    text = \" \".join(word for word in text.split() if word not in stopwords)\n",
        "    return text\n",
        "\n",
        "pos_family = {\n",
        "    'noun' : ['NN','NNS','NNP','NNPS'],\n",
        "    'pron' : ['PRP','PRP$','WP','WP$'],\n",
        "    'verb' : ['VB','VBD','VBG','VBN','VBP','VBZ'],\n",
        "    'adj' :  ['JJ','JJR','JJS'],\n",
        "    'adv' : ['RB','RBR','RBS','WRB']\n",
        "}\n",
        "\n",
        "def check_pos_tag(x, flag):\n",
        "    cnt = 0\n",
        "    try:\n",
        "        wiki = textblob.TextBlob(x)\n",
        "        for tup in wiki.tags:\n",
        "            ppo = list(tup)[1]\n",
        "            if ppo in pos_family[flag]:\n",
        "                cnt += 1\n",
        "    except:\n",
        "        pass\n",
        "    return cnt\n",
        "\n",
        "def feature_extraction(data):\n",
        "    data['clean_text'] =data['Text_data'].apply(lambda x:clean_text(x))\n",
        "    freq_rare = pd.Series(' '.join(data['clean_text']).split()).value_counts()[-20:]\n",
        "    data['clean'] = data['clean_text'].apply(lambda x: \" \".join(x for x in x.split() if x not in freq_rare))\n",
        "\n",
        "    data['char_count'] = data['Text_data'].apply(len)\n",
        "    data['word_count'] = data['Text_data'].apply(lambda x: len(x.split()))\n",
        "    data['word_density'] = data['char_count'] / (data['word_count']+1)\n",
        "    data['punctuation_count'] = data['Text_data'].apply(lambda x: len(\"\".join(_ for _ in x if _ in string.punctuation))) \n",
        "    data['title_word_count'] = data['Text_data'].apply(lambda x: len([wrd for wrd in x.split() if wrd.istitle()]))\n",
        "    data['upper_case_word_count'] = data['Text_data'].apply(lambda x: len([wrd for wrd in x.split() if wrd.isupper()]))\n",
        "\n",
        "    data['noun_count'] = data['Text_data'].apply(lambda x: check_pos_tag(x, 'noun'))\n",
        "    data['verb_count'] = data['Text_data'].apply(lambda x: check_pos_tag(x, 'verb'))\n",
        "    data['adj_count'] = data['Text_data'].apply(lambda x: check_pos_tag(x, 'adj'))\n",
        "    data['adv_count'] = data['Text_data'].apply(lambda x: check_pos_tag(x, 'adv'))\n",
        "    data['pron_count'] = data['Text_data'].apply(lambda x: check_pos_tag(x, 'pron'))\n",
        "    return data"
      ],
      "metadata": {
        "id": "hJ7XxpjzXxtk"
      },
      "execution_count": null,
      "outputs": []
    },
    {
      "cell_type": "code",
      "source": [
        "df_train = feature_extraction(data_train)\n",
        "df_dev = feature_extraction(data_dev)\n",
        "df_test = feature_extraction(data_test)"
      ],
      "metadata": {
        "id": "WxD_qtx8YALE"
      },
      "execution_count": null,
      "outputs": []
    },
    {
      "cell_type": "code",
      "source": [
        "df_test.shape"
      ],
      "metadata": {
        "colab": {
          "base_uri": "https://localhost:8080/"
        },
        "id": "IOLkOy2y4jht",
        "outputId": "b6168e4b-4abb-4bed-fbae-a28c945bb235"
      },
      "execution_count": null,
      "outputs": [
        {
          "output_type": "execute_result",
          "data": {
            "text/plain": [
              "(3245, 15)"
            ]
          },
          "metadata": {},
          "execution_count": 37
        }
      ]
    },
    {
      "cell_type": "code",
      "source": [
        "# # characters level tf-idf\n",
        "from sklearn.feature_extraction.text import  CountVectorizer, TfidfTransformer,TfidfVectorizer\n",
        "tfidf_vect_ngram_chars = TfidfVectorizer(analyzer='char', token_pattern=r'\\w{1,}', ngram_range=(2,3))#, max_features=5000)\n",
        "tfidf_vect_ngram_chars.fit(data_train['clean'])\n",
        "xtrain_tfidf_ngram_chars =  tfidf_vect_ngram_chars.transform(data_train['clean']) \n",
        "xvalid_tfidf_ngram_chars =  tfidf_vect_ngram_chars.transform(data_dev['clean']) \n",
        "xtest_tfidf_ngram_chars =  tfidf_vect_ngram_chars.transform(data_test['clean'])"
      ],
      "metadata": {
        "id": "dg0jRPIYJm9U",
        "colab": {
          "base_uri": "https://localhost:8080/"
        },
        "outputId": "181c3fae-af23-489a-e347-a9339ed31bad"
      },
      "execution_count": null,
      "outputs": [
        {
          "output_type": "stream",
          "name": "stderr",
          "text": [
            "/usr/local/lib/python3.7/dist-packages/sklearn/feature_extraction/text.py:547: UserWarning: The parameter 'token_pattern' will not be used since 'analyzer' != 'word'\n",
            "  \"The parameter 'token_pattern' will not be used\"\n"
          ]
        }
      ]
    },
    {
      "cell_type": "code",
      "source": [
        "xtrain_tfidf_ngram_chars.shape,xtest_tfidf_ngram_chars.shape"
      ],
      "metadata": {
        "colab": {
          "base_uri": "https://localhost:8080/"
        },
        "id": "WwAZsCFSpbtn",
        "outputId": "9766e3e3-a173-4ca4-abc7-dd0b01f97ec8"
      },
      "execution_count": null,
      "outputs": [
        {
          "output_type": "execute_result",
          "data": {
            "text/plain": [
              "((8891, 9024), (3245, 9024))"
            ]
          },
          "metadata": {},
          "execution_count": 39
        }
      ]
    },
    {
      "cell_type": "code",
      "source": [
        "# to construct tfidf \n",
        "\n",
        "count_vect = CountVectorizer()\n",
        "cv_vect= count_vect.fit(df_train[\"clean\"])\n",
        "cv_vect_train= count_vect.transform(df_train[\"clean\"])\n",
        "cv_vect_test= count_vect.transform(df_dev[\"clean\"])\n",
        "cv_vect_test1= count_vect.transform(df_test[\"clean\"])\n",
        "\n",
        "tfidf_transformer = TfidfTransformer()\n",
        "X_tfidf = tfidf_transformer.fit(cv_vect_train)\n",
        "X_tfidf_train = tfidf_transformer.transform(cv_vect_train)\n",
        "X_tfidf_test = tfidf_transformer.transform(cv_vect_test)\n",
        "X_tfidf_test1 = tfidf_transformer.transform(cv_vect_test1)"
      ],
      "metadata": {
        "id": "13OCjjOaKUGK"
      },
      "execution_count": null,
      "outputs": []
    },
    {
      "cell_type": "code",
      "source": [
        "X_tfidf_train.shape"
      ],
      "metadata": {
        "colab": {
          "base_uri": "https://localhost:8080/"
        },
        "id": "UEQZFUGYKcpT",
        "outputId": "6e59777e-48a7-43d6-9fa4-db404db3dd20"
      },
      "execution_count": null,
      "outputs": [
        {
          "output_type": "execute_result",
          "data": {
            "text/plain": [
              "(8891, 13169)"
            ]
          },
          "metadata": {},
          "execution_count": 41
        }
      ]
    },
    {
      "cell_type": "code",
      "source": [
        "#combining features\n",
        "# train set\n",
        "X_features_train = pd.concat([data_train['char_count'],data_train['word_count'],data_train['word_density'],data_train['adj_count'],data_train['adv_count'],data_train['pron_count'],data_train['noun_count'], pd.DataFrame(X_tfidf_train.toarray()),pd.DataFrame(xtrain_tfidf_ngram_chars.toarray())], axis=1)\n",
        "\n",
        "#dev set\n",
        "X_features_test = pd.concat([data_dev['char_count'],data_dev['word_count'],data_dev['word_density'],data_dev['adj_count'],data_dev['adv_count'],data_dev['pron_count'],data_dev['noun_count'],pd.DataFrame(X_tfidf_test.toarray()),pd.DataFrame(xvalid_tfidf_ngram_chars.toarray())], axis=1)\n",
        "\n",
        "#test set\n",
        "X_features_test1 = pd.concat([data_test['char_count'],data_test['word_count'],data_test['word_density'],data_test['adj_count'],data_test['adv_count'],data_test['pron_count'],data_test['noun_count'],pd.DataFrame(X_tfidf_test1.toarray()),pd.DataFrame(xtest_tfidf_ngram_chars.toarray())], axis=1)"
      ],
      "metadata": {
        "id": "uWf2tChxsrrs"
      },
      "execution_count": null,
      "outputs": []
    },
    {
      "cell_type": "code",
      "source": [
        "X_features_train"
      ],
      "metadata": {
        "colab": {
          "base_uri": "https://localhost:8080/",
          "height": 424
        },
        "id": "9SV4MRuipHaj",
        "outputId": "52630ca3-2b0e-4518-a1e8-6e2054034851"
      },
      "execution_count": null,
      "outputs": [
        {
          "output_type": "execute_result",
          "data": {
            "text/html": [
              "\n",
              "  <div id=\"df-f36bd583-05c2-49a5-a7b3-41e1c17b4e94\">\n",
              "    <div class=\"colab-df-container\">\n",
              "      <div>\n",
              "<style scoped>\n",
              "    .dataframe tbody tr th:only-of-type {\n",
              "        vertical-align: middle;\n",
              "    }\n",
              "\n",
              "    .dataframe tbody tr th {\n",
              "        vertical-align: top;\n",
              "    }\n",
              "\n",
              "    .dataframe thead th {\n",
              "        text-align: right;\n",
              "    }\n",
              "</style>\n",
              "<table border=\"1\" class=\"dataframe\">\n",
              "  <thead>\n",
              "    <tr style=\"text-align: right;\">\n",
              "      <th></th>\n",
              "      <th>char_count</th>\n",
              "      <th>word_count</th>\n",
              "      <th>word_density</th>\n",
              "      <th>adj_count</th>\n",
              "      <th>adv_count</th>\n",
              "      <th>pron_count</th>\n",
              "      <th>noun_count</th>\n",
              "      <th>0</th>\n",
              "      <th>1</th>\n",
              "      <th>2</th>\n",
              "      <th>...</th>\n",
              "      <th>9014</th>\n",
              "      <th>9015</th>\n",
              "      <th>9016</th>\n",
              "      <th>9017</th>\n",
              "      <th>9018</th>\n",
              "      <th>9019</th>\n",
              "      <th>9020</th>\n",
              "      <th>9021</th>\n",
              "      <th>9022</th>\n",
              "      <th>9023</th>\n",
              "    </tr>\n",
              "  </thead>\n",
              "  <tbody>\n",
              "    <tr>\n",
              "      <th>0</th>\n",
              "      <td>498</td>\n",
              "      <td>101</td>\n",
              "      <td>4.882353</td>\n",
              "      <td>0</td>\n",
              "      <td>0</td>\n",
              "      <td>0</td>\n",
              "      <td>0</td>\n",
              "      <td>0.0</td>\n",
              "      <td>0.0</td>\n",
              "      <td>0.0</td>\n",
              "      <td>...</td>\n",
              "      <td>0.0</td>\n",
              "      <td>0.0</td>\n",
              "      <td>0.0</td>\n",
              "      <td>0.0</td>\n",
              "      <td>0.0</td>\n",
              "      <td>0.0</td>\n",
              "      <td>0.0</td>\n",
              "      <td>0.0</td>\n",
              "      <td>0.0</td>\n",
              "      <td>0.0</td>\n",
              "    </tr>\n",
              "    <tr>\n",
              "      <th>1</th>\n",
              "      <td>235</td>\n",
              "      <td>48</td>\n",
              "      <td>4.795918</td>\n",
              "      <td>0</td>\n",
              "      <td>0</td>\n",
              "      <td>0</td>\n",
              "      <td>0</td>\n",
              "      <td>0.0</td>\n",
              "      <td>0.0</td>\n",
              "      <td>0.0</td>\n",
              "      <td>...</td>\n",
              "      <td>0.0</td>\n",
              "      <td>0.0</td>\n",
              "      <td>0.0</td>\n",
              "      <td>0.0</td>\n",
              "      <td>0.0</td>\n",
              "      <td>0.0</td>\n",
              "      <td>0.0</td>\n",
              "      <td>0.0</td>\n",
              "      <td>0.0</td>\n",
              "      <td>0.0</td>\n",
              "    </tr>\n",
              "    <tr>\n",
              "      <th>2</th>\n",
              "      <td>146</td>\n",
              "      <td>27</td>\n",
              "      <td>5.214286</td>\n",
              "      <td>0</td>\n",
              "      <td>0</td>\n",
              "      <td>0</td>\n",
              "      <td>0</td>\n",
              "      <td>0.0</td>\n",
              "      <td>0.0</td>\n",
              "      <td>0.0</td>\n",
              "      <td>...</td>\n",
              "      <td>0.0</td>\n",
              "      <td>0.0</td>\n",
              "      <td>0.0</td>\n",
              "      <td>0.0</td>\n",
              "      <td>0.0</td>\n",
              "      <td>0.0</td>\n",
              "      <td>0.0</td>\n",
              "      <td>0.0</td>\n",
              "      <td>0.0</td>\n",
              "      <td>0.0</td>\n",
              "    </tr>\n",
              "    <tr>\n",
              "      <th>3</th>\n",
              "      <td>3247</td>\n",
              "      <td>629</td>\n",
              "      <td>5.153968</td>\n",
              "      <td>0</td>\n",
              "      <td>0</td>\n",
              "      <td>0</td>\n",
              "      <td>0</td>\n",
              "      <td>0.0</td>\n",
              "      <td>0.0</td>\n",
              "      <td>0.0</td>\n",
              "      <td>...</td>\n",
              "      <td>0.0</td>\n",
              "      <td>0.0</td>\n",
              "      <td>0.0</td>\n",
              "      <td>0.0</td>\n",
              "      <td>0.0</td>\n",
              "      <td>0.0</td>\n",
              "      <td>0.0</td>\n",
              "      <td>0.0</td>\n",
              "      <td>0.0</td>\n",
              "      <td>0.0</td>\n",
              "    </tr>\n",
              "    <tr>\n",
              "      <th>4</th>\n",
              "      <td>80</td>\n",
              "      <td>17</td>\n",
              "      <td>4.444444</td>\n",
              "      <td>0</td>\n",
              "      <td>0</td>\n",
              "      <td>0</td>\n",
              "      <td>0</td>\n",
              "      <td>0.0</td>\n",
              "      <td>0.0</td>\n",
              "      <td>0.0</td>\n",
              "      <td>...</td>\n",
              "      <td>0.0</td>\n",
              "      <td>0.0</td>\n",
              "      <td>0.0</td>\n",
              "      <td>0.0</td>\n",
              "      <td>0.0</td>\n",
              "      <td>0.0</td>\n",
              "      <td>0.0</td>\n",
              "      <td>0.0</td>\n",
              "      <td>0.0</td>\n",
              "      <td>0.0</td>\n",
              "    </tr>\n",
              "    <tr>\n",
              "      <th>...</th>\n",
              "      <td>...</td>\n",
              "      <td>...</td>\n",
              "      <td>...</td>\n",
              "      <td>...</td>\n",
              "      <td>...</td>\n",
              "      <td>...</td>\n",
              "      <td>...</td>\n",
              "      <td>...</td>\n",
              "      <td>...</td>\n",
              "      <td>...</td>\n",
              "      <td>...</td>\n",
              "      <td>...</td>\n",
              "      <td>...</td>\n",
              "      <td>...</td>\n",
              "      <td>...</td>\n",
              "      <td>...</td>\n",
              "      <td>...</td>\n",
              "      <td>...</td>\n",
              "      <td>...</td>\n",
              "      <td>...</td>\n",
              "      <td>...</td>\n",
              "    </tr>\n",
              "    <tr>\n",
              "      <th>8886</th>\n",
              "      <td>615</td>\n",
              "      <td>101</td>\n",
              "      <td>6.029412</td>\n",
              "      <td>0</td>\n",
              "      <td>0</td>\n",
              "      <td>0</td>\n",
              "      <td>0</td>\n",
              "      <td>0.0</td>\n",
              "      <td>0.0</td>\n",
              "      <td>0.0</td>\n",
              "      <td>...</td>\n",
              "      <td>0.0</td>\n",
              "      <td>0.0</td>\n",
              "      <td>0.0</td>\n",
              "      <td>0.0</td>\n",
              "      <td>0.0</td>\n",
              "      <td>0.0</td>\n",
              "      <td>0.0</td>\n",
              "      <td>0.0</td>\n",
              "      <td>0.0</td>\n",
              "      <td>0.0</td>\n",
              "    </tr>\n",
              "    <tr>\n",
              "      <th>8887</th>\n",
              "      <td>13339</td>\n",
              "      <td>2528</td>\n",
              "      <td>5.274417</td>\n",
              "      <td>0</td>\n",
              "      <td>0</td>\n",
              "      <td>0</td>\n",
              "      <td>0</td>\n",
              "      <td>0.0</td>\n",
              "      <td>0.0</td>\n",
              "      <td>0.0</td>\n",
              "      <td>...</td>\n",
              "      <td>0.0</td>\n",
              "      <td>0.0</td>\n",
              "      <td>0.0</td>\n",
              "      <td>0.0</td>\n",
              "      <td>0.0</td>\n",
              "      <td>0.0</td>\n",
              "      <td>0.0</td>\n",
              "      <td>0.0</td>\n",
              "      <td>0.0</td>\n",
              "      <td>0.0</td>\n",
              "    </tr>\n",
              "    <tr>\n",
              "      <th>8888</th>\n",
              "      <td>1011</td>\n",
              "      <td>189</td>\n",
              "      <td>5.321053</td>\n",
              "      <td>0</td>\n",
              "      <td>0</td>\n",
              "      <td>0</td>\n",
              "      <td>0</td>\n",
              "      <td>0.0</td>\n",
              "      <td>0.0</td>\n",
              "      <td>0.0</td>\n",
              "      <td>...</td>\n",
              "      <td>0.0</td>\n",
              "      <td>0.0</td>\n",
              "      <td>0.0</td>\n",
              "      <td>0.0</td>\n",
              "      <td>0.0</td>\n",
              "      <td>0.0</td>\n",
              "      <td>0.0</td>\n",
              "      <td>0.0</td>\n",
              "      <td>0.0</td>\n",
              "      <td>0.0</td>\n",
              "    </tr>\n",
              "    <tr>\n",
              "      <th>8889</th>\n",
              "      <td>1550</td>\n",
              "      <td>289</td>\n",
              "      <td>5.344828</td>\n",
              "      <td>0</td>\n",
              "      <td>0</td>\n",
              "      <td>0</td>\n",
              "      <td>0</td>\n",
              "      <td>0.0</td>\n",
              "      <td>0.0</td>\n",
              "      <td>0.0</td>\n",
              "      <td>...</td>\n",
              "      <td>0.0</td>\n",
              "      <td>0.0</td>\n",
              "      <td>0.0</td>\n",
              "      <td>0.0</td>\n",
              "      <td>0.0</td>\n",
              "      <td>0.0</td>\n",
              "      <td>0.0</td>\n",
              "      <td>0.0</td>\n",
              "      <td>0.0</td>\n",
              "      <td>0.0</td>\n",
              "    </tr>\n",
              "    <tr>\n",
              "      <th>8890</th>\n",
              "      <td>1689</td>\n",
              "      <td>327</td>\n",
              "      <td>5.149390</td>\n",
              "      <td>0</td>\n",
              "      <td>0</td>\n",
              "      <td>0</td>\n",
              "      <td>0</td>\n",
              "      <td>0.0</td>\n",
              "      <td>0.0</td>\n",
              "      <td>0.0</td>\n",
              "      <td>...</td>\n",
              "      <td>0.0</td>\n",
              "      <td>0.0</td>\n",
              "      <td>0.0</td>\n",
              "      <td>0.0</td>\n",
              "      <td>0.0</td>\n",
              "      <td>0.0</td>\n",
              "      <td>0.0</td>\n",
              "      <td>0.0</td>\n",
              "      <td>0.0</td>\n",
              "      <td>0.0</td>\n",
              "    </tr>\n",
              "  </tbody>\n",
              "</table>\n",
              "<p>8891 rows × 22200 columns</p>\n",
              "</div>\n",
              "      <button class=\"colab-df-convert\" onclick=\"convertToInteractive('df-f36bd583-05c2-49a5-a7b3-41e1c17b4e94')\"\n",
              "              title=\"Convert this dataframe to an interactive table.\"\n",
              "              style=\"display:none;\">\n",
              "        \n",
              "  <svg xmlns=\"http://www.w3.org/2000/svg\" height=\"24px\"viewBox=\"0 0 24 24\"\n",
              "       width=\"24px\">\n",
              "    <path d=\"M0 0h24v24H0V0z\" fill=\"none\"/>\n",
              "    <path d=\"M18.56 5.44l.94 2.06.94-2.06 2.06-.94-2.06-.94-.94-2.06-.94 2.06-2.06.94zm-11 1L8.5 8.5l.94-2.06 2.06-.94-2.06-.94L8.5 2.5l-.94 2.06-2.06.94zm10 10l.94 2.06.94-2.06 2.06-.94-2.06-.94-.94-2.06-.94 2.06-2.06.94z\"/><path d=\"M17.41 7.96l-1.37-1.37c-.4-.4-.92-.59-1.43-.59-.52 0-1.04.2-1.43.59L10.3 9.45l-7.72 7.72c-.78.78-.78 2.05 0 2.83L4 21.41c.39.39.9.59 1.41.59.51 0 1.02-.2 1.41-.59l7.78-7.78 2.81-2.81c.8-.78.8-2.07 0-2.86zM5.41 20L4 18.59l7.72-7.72 1.47 1.35L5.41 20z\"/>\n",
              "  </svg>\n",
              "      </button>\n",
              "      \n",
              "  <style>\n",
              "    .colab-df-container {\n",
              "      display:flex;\n",
              "      flex-wrap:wrap;\n",
              "      gap: 12px;\n",
              "    }\n",
              "\n",
              "    .colab-df-convert {\n",
              "      background-color: #E8F0FE;\n",
              "      border: none;\n",
              "      border-radius: 50%;\n",
              "      cursor: pointer;\n",
              "      display: none;\n",
              "      fill: #1967D2;\n",
              "      height: 32px;\n",
              "      padding: 0 0 0 0;\n",
              "      width: 32px;\n",
              "    }\n",
              "\n",
              "    .colab-df-convert:hover {\n",
              "      background-color: #E2EBFA;\n",
              "      box-shadow: 0px 1px 2px rgba(60, 64, 67, 0.3), 0px 1px 3px 1px rgba(60, 64, 67, 0.15);\n",
              "      fill: #174EA6;\n",
              "    }\n",
              "\n",
              "    [theme=dark] .colab-df-convert {\n",
              "      background-color: #3B4455;\n",
              "      fill: #D2E3FC;\n",
              "    }\n",
              "\n",
              "    [theme=dark] .colab-df-convert:hover {\n",
              "      background-color: #434B5C;\n",
              "      box-shadow: 0px 1px 3px 1px rgba(0, 0, 0, 0.15);\n",
              "      filter: drop-shadow(0px 1px 2px rgba(0, 0, 0, 0.3));\n",
              "      fill: #FFFFFF;\n",
              "    }\n",
              "  </style>\n",
              "\n",
              "      <script>\n",
              "        const buttonEl =\n",
              "          document.querySelector('#df-f36bd583-05c2-49a5-a7b3-41e1c17b4e94 button.colab-df-convert');\n",
              "        buttonEl.style.display =\n",
              "          google.colab.kernel.accessAllowed ? 'block' : 'none';\n",
              "\n",
              "        async function convertToInteractive(key) {\n",
              "          const element = document.querySelector('#df-f36bd583-05c2-49a5-a7b3-41e1c17b4e94');\n",
              "          const dataTable =\n",
              "            await google.colab.kernel.invokeFunction('convertToInteractive',\n",
              "                                                     [key], {});\n",
              "          if (!dataTable) return;\n",
              "\n",
              "          const docLinkHtml = 'Like what you see? Visit the ' +\n",
              "            '<a target=\"_blank\" href=https://colab.research.google.com/notebooks/data_table.ipynb>data table notebook</a>'\n",
              "            + ' to learn more about interactive tables.';\n",
              "          element.innerHTML = '';\n",
              "          dataTable['output_type'] = 'display_data';\n",
              "          await google.colab.output.renderOutput(dataTable, element);\n",
              "          const docLink = document.createElement('div');\n",
              "          docLink.innerHTML = docLinkHtml;\n",
              "          element.appendChild(docLink);\n",
              "        }\n",
              "      </script>\n",
              "    </div>\n",
              "  </div>\n",
              "  "
            ],
            "text/plain": [
              "      char_count  word_count  word_density  adj_count  adv_count  pron_count  \\\n",
              "0            498         101      4.882353          0          0           0   \n",
              "1            235          48      4.795918          0          0           0   \n",
              "2            146          27      5.214286          0          0           0   \n",
              "3           3247         629      5.153968          0          0           0   \n",
              "4             80          17      4.444444          0          0           0   \n",
              "...          ...         ...           ...        ...        ...         ...   \n",
              "8886         615         101      6.029412          0          0           0   \n",
              "8887       13339        2528      5.274417          0          0           0   \n",
              "8888        1011         189      5.321053          0          0           0   \n",
              "8889        1550         289      5.344828          0          0           0   \n",
              "8890        1689         327      5.149390          0          0           0   \n",
              "\n",
              "      noun_count    0    1    2  ...  9014  9015  9016  9017  9018  9019  \\\n",
              "0              0  0.0  0.0  0.0  ...   0.0   0.0   0.0   0.0   0.0   0.0   \n",
              "1              0  0.0  0.0  0.0  ...   0.0   0.0   0.0   0.0   0.0   0.0   \n",
              "2              0  0.0  0.0  0.0  ...   0.0   0.0   0.0   0.0   0.0   0.0   \n",
              "3              0  0.0  0.0  0.0  ...   0.0   0.0   0.0   0.0   0.0   0.0   \n",
              "4              0  0.0  0.0  0.0  ...   0.0   0.0   0.0   0.0   0.0   0.0   \n",
              "...          ...  ...  ...  ...  ...   ...   ...   ...   ...   ...   ...   \n",
              "8886           0  0.0  0.0  0.0  ...   0.0   0.0   0.0   0.0   0.0   0.0   \n",
              "8887           0  0.0  0.0  0.0  ...   0.0   0.0   0.0   0.0   0.0   0.0   \n",
              "8888           0  0.0  0.0  0.0  ...   0.0   0.0   0.0   0.0   0.0   0.0   \n",
              "8889           0  0.0  0.0  0.0  ...   0.0   0.0   0.0   0.0   0.0   0.0   \n",
              "8890           0  0.0  0.0  0.0  ...   0.0   0.0   0.0   0.0   0.0   0.0   \n",
              "\n",
              "      9020  9021  9022  9023  \n",
              "0      0.0   0.0   0.0   0.0  \n",
              "1      0.0   0.0   0.0   0.0  \n",
              "2      0.0   0.0   0.0   0.0  \n",
              "3      0.0   0.0   0.0   0.0  \n",
              "4      0.0   0.0   0.0   0.0  \n",
              "...    ...   ...   ...   ...  \n",
              "8886   0.0   0.0   0.0   0.0  \n",
              "8887   0.0   0.0   0.0   0.0  \n",
              "8888   0.0   0.0   0.0   0.0  \n",
              "8889   0.0   0.0   0.0   0.0  \n",
              "8890   0.0   0.0   0.0   0.0  \n",
              "\n",
              "[8891 rows x 22200 columns]"
            ]
          },
          "metadata": {},
          "execution_count": 23
        }
      ]
    },
    {
      "cell_type": "code",
      "source": [
        "charcount=pd.concat([data_train['word_count']], axis=1)\n",
        "charcount.shape"
      ],
      "metadata": {
        "colab": {
          "base_uri": "https://localhost:8080/"
        },
        "id": "9vnzgZWDoWw0",
        "outputId": "68261325-ce32-438a-f895-1e0aac0b2789"
      },
      "execution_count": null,
      "outputs": [
        {
          "output_type": "execute_result",
          "data": {
            "text/plain": [
              "(8891, 1)"
            ]
          },
          "metadata": {},
          "execution_count": 22
        }
      ]
    },
    {
      "cell_type": "code",
      "source": [
        "X_features_train.shape,X_features_test1.shape"
      ],
      "metadata": {
        "colab": {
          "base_uri": "https://localhost:8080/"
        },
        "id": "deesZD-WM_BG",
        "outputId": "83a46643-b358-4fb3-c48b-aa39f79d5f1b"
      },
      "execution_count": null,
      "outputs": [
        {
          "output_type": "execute_result",
          "data": {
            "text/plain": [
              "((8891, 22200), (3245, 22200))"
            ]
          },
          "metadata": {},
          "execution_count": 16
        }
      ]
    },
    {
      "cell_type": "markdown",
      "source": [
        "Before resampling"
      ],
      "metadata": {
        "id": "ZVQv5GuqtHDF"
      }
    },
    {
      "cell_type": "code",
      "source": [
        "# Ensemble\n",
        "from sklearn.ensemble import RandomForestClassifier\n",
        "from sklearn.naive_bayes import MultinomialNB\n",
        "from sklearn.neural_network import MLPClassifier\n",
        "from sklearn.ensemble import GradientBoostingClassifier\n",
        "from sklearn.ensemble import VotingClassifier\n",
        "\n",
        "estimator = [] \n",
        "estimator.append(('RF_classifier', RandomForestClassifier(n_estimators=100, max_depth=None, n_jobs=-1)))\n",
        "estimator.append(('MNB_classifier',MultinomialNB()))\n",
        "estimator.append(('MLP_classifier', MLPClassifier(random_state=1, max_iter=100)))\n",
        "estimator.append(('GB_classifier', GradientBoostingClassifier(n_estimators=100, max_depth=None)))\n",
        "\n",
        "\n",
        "# Voting Classifier\n",
        "vot_soft = VotingClassifier(estimators = estimator, voting ='soft') \n",
        "vot_soft.fit(X_features_train,df_train[\"Label\"]) \n",
        "y_pred_soft = vot_soft.predict(X_features_test) \n",
        "\n",
        "accuracy = accuracy_score(df_dev[\"Label\"], y_pred_soft)\n",
        "print(\"Test Accuracy:\", round(accuracy*100, 4))\n",
        "print(\"\\n\", classification_report(df_dev[\"Label\"], y_pred_soft))"
      ],
      "metadata": {
        "colab": {
          "base_uri": "https://localhost:8080/"
        },
        "id": "_Rw9JdSPpM73",
        "outputId": "fc48fe57-a9e3-4470-d977-2a387a0885cc"
      },
      "execution_count": null,
      "outputs": [
        {
          "output_type": "stream",
          "name": "stderr",
          "text": [
            "/usr/local/lib/python3.7/dist-packages/sklearn/utils/validation.py:1692: FutureWarning: Feature names only support names that are all strings. Got feature names with dtypes: ['int', 'str']. An error will be raised in 1.2.\n",
            "  FutureWarning,\n",
            "/usr/local/lib/python3.7/dist-packages/sklearn/utils/validation.py:1692: FutureWarning: Feature names only support names that are all strings. Got feature names with dtypes: ['int', 'str']. An error will be raised in 1.2.\n",
            "  FutureWarning,\n",
            "/usr/local/lib/python3.7/dist-packages/sklearn/utils/validation.py:1692: FutureWarning: Feature names only support names that are all strings. Got feature names with dtypes: ['int', 'str']. An error will be raised in 1.2.\n",
            "  FutureWarning,\n",
            "/usr/local/lib/python3.7/dist-packages/sklearn/utils/validation.py:1692: FutureWarning: Feature names only support names that are all strings. Got feature names with dtypes: ['int', 'str']. An error will be raised in 1.2.\n",
            "  FutureWarning,\n",
            "/usr/local/lib/python3.7/dist-packages/sklearn/utils/validation.py:1692: FutureWarning: Feature names only support names that are all strings. Got feature names with dtypes: ['int', 'str']. An error will be raised in 1.2.\n",
            "  FutureWarning,\n",
            "/usr/local/lib/python3.7/dist-packages/sklearn/utils/validation.py:1692: FutureWarning: Feature names only support names that are all strings. Got feature names with dtypes: ['int', 'str']. An error will be raised in 1.2.\n",
            "  FutureWarning,\n",
            "/usr/local/lib/python3.7/dist-packages/sklearn/utils/validation.py:1692: FutureWarning: Feature names only support names that are all strings. Got feature names with dtypes: ['int', 'str']. An error will be raised in 1.2.\n",
            "  FutureWarning,\n",
            "/usr/local/lib/python3.7/dist-packages/sklearn/utils/validation.py:1692: FutureWarning: Feature names only support names that are all strings. Got feature names with dtypes: ['int', 'str']. An error will be raised in 1.2.\n",
            "  FutureWarning,\n"
          ]
        },
        {
          "output_type": "stream",
          "name": "stdout",
          "text": [
            "Test Accuracy: 60.298\n",
            "\n",
            "                 precision    recall  f1-score   support\n",
            "\n",
            "      moderate       0.58      0.86      0.69      2306\n",
            "not depression       0.69      0.36      0.48      1830\n",
            "        severe       0.51      0.16      0.24       360\n",
            "\n",
            "      accuracy                           0.60      4496\n",
            "     macro avg       0.59      0.46      0.47      4496\n",
            "  weighted avg       0.62      0.60      0.57      4496\n",
            "\n"
          ]
        }
      ]
    },
    {
      "cell_type": "code",
      "source": [
        "len(final_prediction)"
      ],
      "metadata": {
        "colab": {
          "base_uri": "https://localhost:8080/"
        },
        "id": "69uoOhKFdHZ2",
        "outputId": "0161a396-7385-4d45-ef0c-1eaa00467fba"
      },
      "execution_count": null,
      "outputs": [
        {
          "output_type": "execute_result",
          "data": {
            "text/plain": [
              "3245"
            ]
          },
          "metadata": {},
          "execution_count": 28
        }
      ]
    },
    {
      "cell_type": "code",
      "source": [
        "# to create .csv file consisting of tweet ids and predicted labels\n",
        "final_prediction = pd.DataFrame(data=final_prediction, columns=['final_prediction'])\n",
        "Submisssion_en = pd.DataFrame()\n",
        "Submisssion_en['pid'] = data_test['Pid']\n",
        "Submisssion_en['class_label'] = final_prediction\n",
        "Submisssion_en.to_csv('/content/drive/MyDrive/MUCS_submission2.tsv',index=False) "
      ],
      "metadata": {
        "id": "0VYASLVw-Awj"
      },
      "execution_count": null,
      "outputs": []
    }
  ]
}